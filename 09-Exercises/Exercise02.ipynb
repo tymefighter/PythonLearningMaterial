{
 "cells": [
  {
   "cell_type": "code",
   "execution_count": 1,
   "metadata": {},
   "outputs": [],
   "source": [
    "#to check whether the number is even or not"
   ]
  },
  {
   "cell_type": "code",
   "execution_count": 2,
   "metadata": {},
   "outputs": [],
   "source": [
    "def isEven(num):\n",
    "    if (num%2==0):\n",
    "        return True\n",
    "    else:\n",
    "        return False"
   ]
  },
  {
   "cell_type": "code",
   "execution_count": 3,
   "metadata": {},
   "outputs": [],
   "source": [
    "assert(isEven(458)==True)\n",
    "assert(isEven(45)==False)\n",
    "assert(isEven(8)==True)\n",
    "assert(isEven(11)==False)\n",
    "assert(isEven(-2)==True)"
   ]
  },
  {
   "cell_type": "code",
   "execution_count": 14,
   "metadata": {},
   "outputs": [],
   "source": [
    "#checks whether a string x is palindrome or not\n",
    "def isPalindrome(x):\n",
    "    last=len(x)-1\n",
    "    start=0\n",
    "    while(start<last):\n",
    "        if(x[start]!=x[last]):\n",
    "            return False\n",
    "        start+=1\n",
    "        last-=1\n",
    "    return True"
   ]
  },
  {
   "cell_type": "code",
   "execution_count": 13,
   "metadata": {},
   "outputs": [],
   "source": [
    "assert(isPalindrome(\"malayalam\")==True)\n",
    "assert(isPalindrome(\"hello\")==False)\n",
    "assert(isPalindrome(\"civic\")==True)\n",
    "assert(isPalindrome(\"racecar\")==True)\n",
    "assert(isPalindrome(\"dummycar\")==False)"
   ]
  },
  {
   "cell_type": "code",
   "execution_count": 19,
   "metadata": {},
   "outputs": [],
   "source": [
    "#checks whether a positive number is a palindrome \n",
    "def isPalNum(x):\n",
    "    rev=0\n",
    "    temp=x\n",
    "    while(x!=0):\n",
    "        digit=x%10\n",
    "        rev=rev*10 + digit\n",
    "        x=x//10\n",
    "    if(temp==rev):\n",
    "        return True\n",
    "    return False"
   ]
  },
  {
   "cell_type": "code",
   "execution_count": 23,
   "metadata": {},
   "outputs": [
    {
     "data": {
      "text/plain": [
       "True"
      ]
     },
     "execution_count": 23,
     "metadata": {},
     "output_type": "execute_result"
    }
   ],
   "source": [
    "assert(isPalNum(123321)==True)\n",
    "assert(isPalNum(1232)==False)\n",
    "assert(isPalNum(13443211234431)==True)\n",
    "assert(isPalNum(1)==True)"
   ]
  },
  {
   "cell_type": "code",
   "execution_count": 33,
   "metadata": {},
   "outputs": [],
   "source": [
    "'''\n",
    "Write a function for checking the speed of drivers. This function should have one parameter: speed.\n",
    "\n",
    "    If speed is less than 70, it should print “Ok”.\n",
    "    Otherwise, for every 5km above the speed limit (70), it should give the driver one demerit point and print the total number of demerit points. For example, if the speed is 80, it should print: “Points: 2”.\n",
    "    If the driver gets more than 12 points, the function should print: \"license suspended!\"\n",
    "    otherwise print \"license under warning!\"\n",
    "'''\n",
    "def speedRegulator(speed):\n",
    "    demerit_points=0\n",
    "    if (speed<70):\n",
    "        return \"OK\"\n",
    "    else:\n",
    "        demerit_points+=(speed-70)//5 + 1\n",
    "        if(demerit_points>12):\n",
    "            return \"license suspended!\"\n",
    "        else:\n",
    "            return \"license under warning!\""
   ]
  },
  {
   "cell_type": "code",
   "execution_count": 36,
   "metadata": {},
   "outputs": [
    {
     "data": {
      "text/plain": [
       "'license suspended!'"
      ]
     },
     "execution_count": 36,
     "metadata": {},
     "output_type": "execute_result"
    }
   ],
   "source": [
    "assert(speedRegulator(130.5)==\"license suspended!\")\n",
    "assert(speedRegulator(45)==\"OK\")\n",
    "assert(speedRegulator(100)==\"license under warning!\")"
   ]
  },
  {
   "cell_type": "code",
   "execution_count": 51,
   "metadata": {},
   "outputs": [],
   "source": [
    "'''\n",
    "Write a function called show_stars(rows). If rows is 5, it should print the following:\n",
    "\n",
    "\n",
    "    *\n",
    "    **\n",
    "    ***\n",
    "    ****\n",
    "    *****\n",
    "    \n",
    "    TIPS : Does print() produce a newline by default?!\n",
    "'''\n",
    "def printStars(count):\n",
    "    for i in range(1,count+1):\n",
    "        for j in range(i):\n",
    "            print (\"* \",end=\" \")\n",
    "        print(\"\\n\")"
   ]
  },
  {
   "cell_type": "code",
   "execution_count": 53,
   "metadata": {},
   "outputs": [],
   "source": [
    "'''\n",
    "Program to remove all the blank spaces in a string\n",
    "'''\n",
    "\n",
    "def removeSpace(x):\n",
    "    y = \"\"\n",
    "    for alpha in x:\n",
    "        if alpha != \" \":\n",
    "                y = y+alpha\n",
    "    return y"
   ]
  },
  {
   "cell_type": "code",
   "execution_count": 57,
   "metadata": {},
   "outputs": [],
   "source": [
    "assert(removeSpace(\"I am learning python!\")==\"Iamlearningpython!\")\n",
    "assert(removeSpace(\"hello world\")==\"helloworld\")\n",
    "assert(removeSpace(\"Programming is fun!\")==\"Programmingisfun!\")"
   ]
  },
  {
   "cell_type": "code",
   "execution_count": 73,
   "metadata": {},
   "outputs": [],
   "source": [
    "#program to print fibonacci numbers from 1 to n , n being input\n",
    "\n",
    "def fibonacci(n):\n",
    "    prev=0\n",
    "    curr=1\n",
    "    while(curr<=n):\n",
    "        print(curr)\n",
    "        temp=curr\n",
    "        curr=curr+prev\n",
    "        prev=temp\n",
    "    return"
   ]
  },
  {
   "cell_type": "code",
   "execution_count": 78,
   "metadata": {},
   "outputs": [],
   "source": [
    "#calculate the area pf a circle(real value)\n",
    "\n",
    "def areaOfCircle(radius):\n",
    "    pi = 3.14\n",
    "    return pi*radius**2"
   ]
  },
  {
   "cell_type": "code",
   "execution_count": 85,
   "metadata": {},
   "outputs": [],
   "source": [
    "assert(areaOfCircle(5)==78.5)"
   ]
  },
  {
   "cell_type": "code",
   "execution_count": 80,
   "metadata": {},
   "outputs": [],
   "source": [
    "'''\n",
    "write a program to rotate an array by one element in right->left fashion\n",
    "eg: i/p = [1,2,3,4,5]\n",
    "    o/p = [2,3,4,5,1]\n",
    "'''\n",
    "def rotateArray(x):\n",
    "    temp=x[0]\n",
    "    for i in range(len(x)-1):\n",
    "        x[i]=x[i+1]\n",
    "    x[len(x)-1]=temp\n",
    "    return x\n",
    "        "
   ]
  },
  {
   "cell_type": "code",
   "execution_count": 81,
   "metadata": {},
   "outputs": [
    {
     "data": {
      "text/plain": [
       "[2, 3, 4, 5, 1]"
      ]
     },
     "execution_count": 81,
     "metadata": {},
     "output_type": "execute_result"
    }
   ],
   "source": [
    "x=[1,2,3,4,5]\n",
    "rotateArray(x)"
   ]
  },
  {
   "cell_type": "code",
   "execution_count": 82,
   "metadata": {},
   "outputs": [],
   "source": [
    "'''\n",
    "python to print all the non negative numbers in a range [start,end)\n",
    "'''\n",
    "def positiveNum(start,end):\n",
    "    while(start<end):\n",
    "        if(start>=0):\n",
    "            print(start)\n",
    "        start+=1\n",
    "    return"
   ]
  },
  {
   "cell_type": "code",
   "execution_count": 92,
   "metadata": {},
   "outputs": [],
   "source": [
    "'''\n",
    "print an inverted star pattern for an input count\n",
    "\n",
    "eg.\n",
    "for count = 4\n",
    "    ****\n",
    "     ***\n",
    "      **\n",
    "       *\n",
    "'''\n",
    "def invStar(count):\n",
    "    while(count):\n",
    "        for i in range(count):\n",
    "            print(\"* \",end=\"\")\n",
    "        print(\"\\n\")\n",
    "        count-=1\n",
    "    return"
   ]
  },
  {
   "cell_type": "code",
   "execution_count": 103,
   "metadata": {},
   "outputs": [],
   "source": [
    "'''\n",
    "a wow number is a number whose sum of digits is equal to the number itself\n",
    "'''\n",
    "def isWow(x):\n",
    "    sum_of_cubes=0\n",
    "    temp=x\n",
    "    while(temp):\n",
    "        digit=temp%10\n",
    "        sum_of_cubes+=digit\n",
    "        temp=temp//10\n",
    "    if(sum_of_cubes==x):\n",
    "        return True\n",
    "    return False"
   ]
  },
  {
   "cell_type": "code",
   "execution_count": 98,
   "metadata": {},
   "outputs": [],
   "source": [
    "'''\n",
    "check whether a number is an armstrong number or not\n",
    "'''\n",
    "def isArmstrong(x):\n",
    "    sum_of_cubes=0\n",
    "    temp=x\n",
    "    while(temp):\n",
    "        digit=temp%10\n",
    "        sum_of_cubes+=digit**3\n",
    "        temp=temp//10\n",
    "    if(sum_of_cubes==x):\n",
    "        return True\n",
    "    return False"
   ]
  },
  {
   "cell_type": "code",
   "execution_count": 101,
   "metadata": {},
   "outputs": [
    {
     "data": {
      "text/plain": [
       "True"
      ]
     },
     "execution_count": 101,
     "metadata": {},
     "output_type": "execute_result"
    }
   ],
   "source": [
    "isArmstrong(153)\n",
    "isArmstrong(371)"
   ]
  },
  {
   "cell_type": "code",
   "execution_count": 102,
   "metadata": {},
   "outputs": [
    {
     "data": {
      "text/plain": [
       "False"
      ]
     },
     "execution_count": 102,
     "metadata": {},
     "output_type": "execute_result"
    }
   ],
   "source": [
    "isArmstrong(123)"
   ]
  },
  {
   "cell_type": "code",
   "execution_count": 104,
   "metadata": {},
   "outputs": [],
   "source": [
    "'''\n",
    "a function to print all the vowels in a string\n",
    "'''\n",
    "def printVowels(str):\n",
    "    vowels=['a','e','i','o','u']\n",
    "    for alpha in str:\n",
    "        if (alpha in vowels):\n",
    "            print(alpha+\" \")\n",
    "    return"
   ]
  },
  {
   "cell_type": "code",
   "execution_count": 105,
   "metadata": {},
   "outputs": [
    {
     "name": "stdout",
     "output_type": "stream",
     "text": [
      "a \n",
      "i \n",
      "e \n",
      "o \n",
      "o \n",
      "a \n",
      "e \n",
      "o \n",
      "u \n"
     ]
    }
   ],
   "source": [
    "printVowels(\"hai hello how are you?\")"
   ]
  }
 ],
 "metadata": {
  "kernelspec": {
   "display_name": "Python 3",
   "language": "python",
   "name": "python3"
  },
  "language_info": {
   "codemirror_mode": {
    "name": "ipython",
    "version": 3
   },
   "file_extension": ".py",
   "mimetype": "text/x-python",
   "name": "python",
   "nbconvert_exporter": "python",
   "pygments_lexer": "ipython3",
   "version": "3.6.8"
  }
 },
 "nbformat": 4,
 "nbformat_minor": 2
}
