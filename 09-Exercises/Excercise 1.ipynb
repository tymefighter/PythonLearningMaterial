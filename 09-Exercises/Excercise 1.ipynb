{
 "cells": [
  {
   "cell_type": "code",
   "execution_count": 10,
   "metadata": {},
   "outputs": [],
   "source": [
    "eps = 1e-5"
   ]
  },
  {
   "cell_type": "code",
   "execution_count": 3,
   "metadata": {},
   "outputs": [],
   "source": [
    "def add(a, b):\n",
    "\n",
    "    return a + b"
   ]
  },
  {
   "cell_type": "code",
   "execution_count": 4,
   "metadata": {},
   "outputs": [],
   "source": [
    "assert(add(3, 4) == 7)\n",
    "assert(add(5, 5) == 10)\n",
    "assert(add(1, 959) == 960)\n",
    "assert(add(5401, 4598) == 9999)\n",
    "assert(add(5000000, 5000000) == 10000000)"
   ]
  },
  {
   "cell_type": "code",
   "execution_count": 8,
   "metadata": {},
   "outputs": [],
   "source": [
    "def isPrime(a):\n",
    "    \n",
    "    if a <= 0:\n",
    "        return False\n",
    "    \n",
    "    for i in range(2, a):\n",
    "        if a % i == 0:\n",
    "            return False\n",
    "    \n",
    "    return True"
   ]
  },
  {
   "cell_type": "code",
   "execution_count": 16,
   "metadata": {},
   "outputs": [],
   "source": [
    "assert(isPrime(42) == False)\n",
    "assert(isPrime(100) == False)\n",
    "assert(isPrime(7) == True)\n",
    "assert(isPrime(7529) == True)\n",
    "assert(isPrime(69102) == False)"
   ]
  },
  {
   "cell_type": "code",
   "execution_count": 17,
   "metadata": {},
   "outputs": [],
   "source": [
    "def num_a(s):\n",
    "    \n",
    "    \"return the number of a's\"\n",
    "    cnt = 0\n",
    "    \n",
    "    for x in s:\n",
    "        if x == 'a':\n",
    "            cnt += 1\n",
    "    \n",
    "    return cnt"
   ]
  },
  {
   "cell_type": "code",
   "execution_count": 29,
   "metadata": {},
   "outputs": [
    {
     "data": {
      "text/plain": [
       "40"
      ]
     },
     "execution_count": 29,
     "metadata": {},
     "output_type": "execute_result"
    }
   ],
   "source": [
    "assert(num_a(\"abababa\") == 4)\n",
    "assert(num_a(\"abababaabababaababababababaaabababaabababaabababaabababababaabaabababa\") == 40)"
   ]
  },
  {
   "cell_type": "code",
   "execution_count": 18,
   "metadata": {},
   "outputs": [],
   "source": [
    "def findMedian(a):\n",
    "    \n",
    "    a.sort()\n",
    "    if (len(a) % 2) == 0:\n",
    "        return (a[(len(a) // 2) - 1] + a[(len(a) // 2)]) / 2\n",
    "    else:\n",
    "        return a[(len(a) // 2)]"
   ]
  },
  {
   "cell_type": "code",
   "execution_count": 19,
   "metadata": {},
   "outputs": [],
   "source": [
    "assert(findMedian([5, 1, 3]) == 3)\n",
    "assert(findMedian([5, 5, 1, 3]) == 4)\n",
    "assert(findMedian([12, 41, 15, 15, 123, 621, 2134, 512, 901, 234, 2354, 3251, 2134213]) == 512)\n",
    "assert(abs(findMedian([0.12, 4.1, 11.5, 15.5, 123, 62.1, 2134, 5.12, 90.1, 21.34, 2354, 3251, 213.4213]) - 62.1) < eps)"
   ]
  },
  {
   "cell_type": "code",
   "execution_count": 12,
   "metadata": {},
   "outputs": [],
   "source": [
    "def findMode(a):\n",
    "    \n",
    "    m = {}\n",
    "    for x in a:\n",
    "        if x not in m:\n",
    "            m[x] = 0\n",
    "        m[x] += 1\n",
    "    \n",
    "    num = -1\n",
    "    max_val = -1\n",
    "    for (key, value) in m.items():\n",
    "        \n",
    "        if value > max_val:\n",
    "            num = key\n",
    "            max_val = value\n",
    "    \n",
    "    return num"
   ]
  },
  {
   "cell_type": "code",
   "execution_count": 17,
   "metadata": {},
   "outputs": [],
   "source": [
    "assert(findMode([1, 1, 1, 1, 1, 4, 4, 4, 5, 5]) == 1)\n",
    "assert(findMode([2, 1, 1, 1, 3, 3, 3, 5, 8, 11, 90, 400, 400]) in {1, 3})\n",
    "assert(findMode([1, 1, 3, 3, 9, 4, 4, 5, 6, 12, 9, 9, 123, 400, 910, 910, 4, 4, 5, 5, 7, 7, 9, 9, 1, 0, 0, 9, 9]) == 9)\n",
    "assert(findMode([1, 0, 5, 1, 7, 1, 2, 2, 2]) in {1, 2})"
   ]
  },
  {
   "cell_type": "code",
   "execution_count": 22,
   "metadata": {},
   "outputs": [],
   "source": [
    "def find_num_abc(a):\n",
    "    \n",
    "    ct = 0\n",
    "    for i in range(1, len(a) - 1):  \n",
    "        if a[i - 1 : i + 2] == \"abc\":\n",
    "            ct += 1\n",
    "    \n",
    "    return ct"
   ]
  },
  {
   "cell_type": "code",
   "execution_count": 36,
   "metadata": {},
   "outputs": [],
   "source": [
    "assert(find_num_abc(\"abcaabcabcabcbcabc\") == 5)\n",
    "assert(find_num_abc(\"abcdabcbabdbabcbcbcabbcabacbabcababcabcbacbabcabacbabcabcacbabchashcbacbabcuacubabc\") == 12)\n",
    "assert(find_num_abc(\"abcabcabcabcabcabcabcdabcbabdbabcbcbcabbcabacbabcuauauuauauauauaababcacbbabcabcabca\\\n",
    "bcbabcabcbacbabcabacbabcabcacbabchashcbacbabcuacubabc\") == 23)"
   ]
  },
  {
   "cell_type": "code",
   "execution_count": 38,
   "metadata": {},
   "outputs": [],
   "source": [
    "def find_plus_pattern_simple_2dMat(a):\n",
    "    \n",
    "    for i in range(1, len(a) - 1):\n",
    "        for j in range(1, len(a[i]) - 1):\n",
    "            \n",
    "            s = a[i][j] + a[i - 1][j] + a[i + 1][j] + a[i][j - 1] + a[i][j + 1]\n",
    "            \n",
    "            if s == \".....\":\n",
    "                return True\n",
    "    \n",
    "    return False"
   ]
  },
  {
   "cell_type": "code",
   "execution_count": 45,
   "metadata": {},
   "outputs": [],
   "source": [
    "assert(find_plus_pattern_simple_2dMat([[' ','.',' '], ['.','.','.'], [' ','.',' ']]) == True)\n",
    "assert(find_plus_pattern_simple_2dMat([[' ','.',' '], ['.','.','.'], [' ',' ',' ']]) == False)\n",
    "assert(find_plus_pattern_simple_2dMat([['.','.',' '], ['.','.','.'], [' ',' ',' ']]) == False)\n",
    "assert(find_plus_pattern_simple_2dMat([['.','.',' '], ['.','.','.'], [' ','.',' '], ['.', '.', '.']]) == True)"
   ]
  },
  {
   "cell_type": "code",
   "execution_count": null,
   "metadata": {},
   "outputs": [],
   "source": []
  }
 ],
 "metadata": {
  "kernelspec": {
   "display_name": "Python 3",
   "language": "python",
   "name": "python3"
  },
  "language_info": {
   "codemirror_mode": {
    "name": "ipython",
    "version": 3
   },
   "file_extension": ".py",
   "mimetype": "text/x-python",
   "name": "python",
   "nbconvert_exporter": "python",
   "pygments_lexer": "ipython3",
   "version": "3.6.8"
  }
 },
 "nbformat": 4,
 "nbformat_minor": 2
}
