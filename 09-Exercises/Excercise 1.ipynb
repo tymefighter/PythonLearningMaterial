{
 "cells": [
  {
   "cell_type": "code",
   "execution_count": 3,
   "metadata": {},
   "outputs": [],
   "source": [
    "def add(a, b):\n",
    "\n",
    "    return a + b"
   ]
  },
  {
   "cell_type": "code",
   "execution_count": 4,
   "metadata": {},
   "outputs": [],
   "source": [
    "assert(add(3, 4) == 7)\n",
    "assert(add(5, 5) == 10)\n",
    "assert(add(1, 959) == 960)\n",
    "assert(add(5401, 4598) == 9999)\n",
    "assert(add(5000000, 5000000) == 10000000)"
   ]
  },
  {
   "cell_type": "code",
   "execution_count": 8,
   "metadata": {},
   "outputs": [],
   "source": [
    "def isPrime(a):\n",
    "    \n",
    "    if a <= 0:\n",
    "        return False\n",
    "    \n",
    "    for i in range(2, a):\n",
    "        if a % i == 0:\n",
    "            return False\n",
    "    \n",
    "    return True"
   ]
  },
  {
   "cell_type": "code",
   "execution_count": 16,
   "metadata": {},
   "outputs": [],
   "source": [
    "assert(isPrime(42) == False)\n",
    "assert(isPrime(100) == False)\n",
    "assert(isPrime(7) == True)\n",
    "assert(isPrime(7529) == True)\n",
    "assert(isPrime(69102) == False)"
   ]
  },
  {
   "cell_type": "code",
   "execution_count": 17,
   "metadata": {},
   "outputs": [],
   "source": [
    "def num_a(s):\n",
    "    \n",
    "    \"return the number of a's\"\n",
    "    cnt = 0\n",
    "    \n",
    "    for x in s:\n",
    "        if x == 'a':\n",
    "            cnt += 1\n",
    "    \n",
    "    return cnt"
   ]
  },
  {
   "cell_type": "code",
   "execution_count": 29,
   "metadata": {},
   "outputs": [
    {
     "data": {
      "text/plain": [
       "40"
      ]
     },
     "execution_count": 29,
     "metadata": {},
     "output_type": "execute_result"
    }
   ],
   "source": [
    "assert(num_a(\"abababa\") == 4)\n",
    "assert(num_a(\"abababaabababaababababababaaabababaabababaabababaabababababaabaabababa\") == 40)"
   ]
  },
  {
   "cell_type": "code",
   "execution_count": null,
   "metadata": {},
   "outputs": [],
   "source": []
  }
 ],
 "metadata": {
  "kernelspec": {
   "display_name": "Python 3",
   "language": "python",
   "name": "python3"
  },
  "language_info": {
   "codemirror_mode": {
    "name": "ipython",
    "version": 3
   },
   "file_extension": ".py",
   "mimetype": "text/x-python",
   "name": "python",
   "nbconvert_exporter": "python",
   "pygments_lexer": "ipython3",
   "version": "3.6.8"
  }
 },
 "nbformat": 4,
 "nbformat_minor": 2
}
