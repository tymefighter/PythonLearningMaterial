{
 "cells": [
  {
   "cell_type": "code",
   "execution_count": 1,
   "metadata": {},
   "outputs": [
    {
     "data": {
      "text/plain": [
       "' \\nX -> Red\\nO -> Green\\n_ -> White Background\\n\\n\\n'"
      ]
     },
     "execution_count": 1,
     "metadata": {},
     "output_type": "execute_result"
    }
   ],
   "source": [
    "# from IPython.display import clear_output\n",
    "from os import system\n",
    "from IPython.display import clear_output\n",
    "''' \n",
    "X -> Red\n",
    "O -> Green\n",
    "_ -> White Background\n",
    "\n",
    "\n",
    "'''\n",
    "# board = ['X', 'O', 'X', 'X', ' ', 'X', 'X', 'O', 'X']\n",
    "# display(board, 8)"
   ]
  },
  {
   "cell_type": "code",
   "execution_count": 2,
   "metadata": {},
   "outputs": [],
   "source": [
    "def checkValid(arr, i):\n",
    "\tif arr[i] != ' ':\n",
    "\t\treturn False\n",
    "\telse:\n",
    "\t\treturn True\n"
   ]
  },
  {
   "cell_type": "code",
   "execution_count": 3,
   "metadata": {},
   "outputs": [],
   "source": [
    "'''\n",
    "A function which checks whether the TIC_TAC_TOE game is in a win or draw or continue state.\n",
    "i/p : State of the tic-tac-toe board (A list of 9 entries)\n",
    "o/p:\n",
    "if a WIN , the winning player symbol is returned (X OR O)\n",
    "elif a DRAW, 0 is returned\n",
    "else  CONTINUE state, -1 is returned\n",
    "\n",
    "            BOARD\n",
    "    |   0   |   1   |   2   |\n",
    "    |   3   |   4   |   5   |\n",
    "    |   6   |   7   |   8   |\n",
    "\n",
    "    Input Symbols are X and O or \" \" for empty\n",
    "'''\n",
    "\n",
    "def isGameOver(board):\n",
    "    # row match for X or O\n",
    "    pos = 0;\n",
    "    while(pos<=6):\n",
    "        if(board[pos]=='X' and board[pos+1]=='X' and board[pos+2]=='X'):\n",
    "            return 1\n",
    "        if(board[pos]=='O' and board[pos+1]=='O' and board[pos+2]=='O'):\n",
    "            return 0\n",
    "        pos+=3\n",
    "    # col match for X or O\n",
    "    pos=0\n",
    "    while(pos<=2):\n",
    "        if(board[pos]=='X' and board[pos+3]=='X' and board[pos+6]=='X'):\n",
    "            return 1\n",
    "        if(board[pos]=='O' and board[pos+3]=='O' and board[pos+6]=='O'):\n",
    "            return 0\n",
    "        pos+=1\n",
    "    #first diagnonal match for O or X\n",
    "    pos=0\n",
    "    if(board[pos]=='X' and board[pos+4]=='X' and board[pos+8]=='X'):\n",
    "            return 1\n",
    "    if(board[pos]=='O' and board[pos+4]=='O' and board[pos+8]=='O'):\n",
    "            return 0\n",
    "    # second diagonal match for X or O\n",
    "    pos = 6\n",
    "    if(board[pos]=='X' and board[pos-2]=='X' and board[pos-4]=='X'):\n",
    "            return 1\n",
    "    if(board[pos]=='O' and board[pos-2]=='O' and board[pos-4]=='O'):\n",
    "            return 0\n",
    "    #now to check whether if it is a draw or conitune state\n",
    "    pos=0\n",
    "    while(pos<=8):\n",
    "        if board[pos]==\" \":\n",
    "            return -2\n",
    "        pos=pos+1\n",
    "    # now all are occupied hence a DRAW\n",
    "    return -1\n"
   ]
  },
  {
   "cell_type": "code",
   "execution_count": 4,
   "metadata": {},
   "outputs": [],
   "source": [
    "\n",
    "\n",
    "def update(arr, playerNo, i):\n",
    "\n",
    "\tif not checkValid(arr, i):\n",
    "\t\treturn False\n",
    "\t\n",
    "\tif playerNo == 0:\n",
    "\t\tarr[i] = 'O'\n",
    "\telse:\n",
    "\t\tarr[i] = 'X'\n",
    "\t\n",
    "\treturn True\n"
   ]
  },
  {
   "cell_type": "code",
   "execution_count": 5,
   "metadata": {},
   "outputs": [],
   "source": [
    "\n",
    "\n",
    "def display(board, cursor):\n",
    "\n",
    "\t# ANSI escape codes for colors\n",
    "\tRED = '\\033[31m'\n",
    "\tGREEN = '\\033[32m'\n",
    "\tRESET = '\\033[0m'\n",
    "\tWHITE = '\\033[47m'\n",
    "\ts = ''\n",
    "\tfor i in range(0, len(board)):\n",
    "\n",
    "\t\t# white background for cursor highlight\n",
    "\t\tif cursor == i:\n",
    "\t\t\ts = s + WHITE\n",
    "\t\tif board[i] == 'X':\n",
    "\t\t\ts = s + RED + ' X ' + RESET\n",
    "\t\telif board[i] == 'O':\n",
    "\t\t\ts = s + GREEN + ' O ' + RESET\n",
    "\t\telse:\n",
    "\t\t\ts = s + '   ' + RESET\n",
    "\n",
    "\t\t# \n",
    "\t\trow = i // 3\n",
    "\t\tcol = i % 3\n",
    "\n",
    "\t\tif col < 2:\n",
    "\t\t\ts = s + '|'\n",
    "\t\t# last column\n",
    "\t\telse:\n",
    "\t\t\ts = s + '\\n'\n",
    "\t\t\t# last row\n",
    "\t\t\tif row < 2:\n",
    "\t\t\t\ts = s + '-----------\\n'\n",
    "\t\n",
    "\t\n",
    "\tclear_output()\n",
    "\t#system('clear')\n",
    "\tprint(s)\n",
    "\treturn\n",
    "\t\t\n",
    "\n"
   ]
  },
  {
   "cell_type": "code",
   "execution_count": 6,
   "metadata": {},
   "outputs": [],
   "source": [
    "\n",
    "\n",
    "def play():\n",
    "\tprint(\"I am playing\")\n",
    "\t# An array to represent the tic-tac-toe board,  \n",
    "\t# assume that the board is a 3*3 matrix\n",
    "\tarr = [' ' for i in range(9)]\n",
    "\t\n",
    "\t# Cursor location is represented by row,col \n",
    "\trow = col = 0\n",
    "\t\n",
    "\t# A set of cursor characters which would\n",
    "\t# be input by the player\n",
    "\tcursorChar = set(('w', 's', 'a', 'd'))\n",
    "\t\n",
    "\t# Current Player number\n",
    "\tplayer = 0\n",
    "\t\n",
    "\t# Result to be printed\n",
    "\tres = [\"Player 0 won\", \"Player 1 won\", \"Draw\"]\n",
    "\t\n",
    "\t# A while loop which would simulate\n",
    "\t# the game\n",
    "\twhile True:\n",
    "\t\t\n",
    "\t\t# This would display the current game\n",
    "\t\t# status\n",
    "\t\tdisplay(arr, row * 3 + col)\n",
    "\t\t\n",
    "\t\t# Get input from the player\n",
    "\t\tc = input()\n",
    "\t\t\n",
    "\t\t# If the input is a cursor character, do as follows\n",
    "\t\tif c in cursorChar:\n",
    "\t\t\t\n",
    "\t\t\tif c == 'w' and row != 0:\t\t# If the cursor moves up, then reduce row value\n",
    "\t\t\t\trow -= 1\n",
    "\t\t\telif c == 's' and row != 2:\t\t# If the cursor moves down, then increase row value\n",
    "\t\t\t\trow += 1\n",
    "\t\t\telif c == 'a' and col != 0:\t\t# If the cursor moves left, then reduce col value\n",
    "\t\t\t\tcol -= 1\n",
    "\t\t\telif c == 'd' and col != 2:\t\t# If the cursor moves right, then increase col value\n",
    "\t\t\t\tcol += 1\n",
    "\n",
    "\t\telif c == ' ':\t\t\t\t\t\t# If the input is an enter character, then do as follows\n",
    "\t\t\t\n",
    "\t\t\tif update(arr, player, row * 3 + col):\t# Update the game board if possible\n",
    "\t\t\t\t\n",
    "\t\t\t\tplayer = 1 - player\t\t\t# Change the player\n",
    "\t\t\t\t\n",
    "\t\t\t\tpl = isGameOver(arr)\t\t# Get game status\n",
    "\t\t\t\t\n",
    "\t\t\t\tif pl != -2:\t\t\t\t# If the game is over, do as follows\n",
    "\t\t\t\t\tdisplay(arr, row * 3 + col)\n",
    "\t\t\t\t\tprint(res[pl])\t\t\t# print the results\n",
    "\t\t\t\t\tbreak\t\t\t\t\t# End the game\n",
    "\n"
   ]
  },
  {
   "cell_type": "code",
   "execution_count": 8,
   "metadata": {},
   "outputs": [
    {
     "name": "stdout",
     "output_type": "stream",
     "text": [
      "\u001b[32m O \u001b[0m|\u001b[31m X \u001b[0m|   \u001b[0m\n",
      "-----------\n",
      "\u001b[32m O \u001b[0m|\u001b[31m X \u001b[0m|   \u001b[0m\n",
      "-----------\n",
      "\u001b[47m\u001b[32m O \u001b[0m|   \u001b[0m|   \u001b[0m\n",
      "\n",
      "Player 0 won\n"
     ]
    }
   ],
   "source": [
    "#start game with player 0 wins\n",
    "play()"
   ]
  },
  {
   "cell_type": "code",
   "execution_count": 8,
   "metadata": {},
   "outputs": [
    {
     "name": "stdout",
     "output_type": "stream",
     "text": [
      "\u001b[32m O \u001b[0m|\u001b[31m X \u001b[0m|\u001b[32m O \u001b[0m\n",
      "-----------\n",
      "   \u001b[0m|\u001b[31m X \u001b[0m|\u001b[32m O \u001b[0m\n",
      "-----------\n",
      "   \u001b[0m|\u001b[47m\u001b[31m X \u001b[0m|   \u001b[0m\n",
      "\n",
      "Player 1 won\n"
     ]
    }
   ],
   "source": [
    "#start game with player 1 wins\n",
    "play() "
   ]
  },
  {
   "cell_type": "code",
   "execution_count": 10,
   "metadata": {},
   "outputs": [
    {
     "name": "stdout",
     "output_type": "stream",
     "text": [
      "\u001b[32m O \u001b[0m|\u001b[32m O \u001b[0m|\u001b[31m X \u001b[0m\n",
      "-----------\n",
      "\u001b[31m X \u001b[0m|\u001b[31m X \u001b[0m|\u001b[32m O \u001b[0m\n",
      "-----------\n",
      "\u001b[32m O \u001b[0m|\u001b[31m X \u001b[0m|\u001b[47m\u001b[32m O \u001b[0m\n",
      "\n",
      "Draw\n"
     ]
    }
   ],
   "source": [
    "play()"
   ]
  }
 ],
 "metadata": {
  "kernelspec": {
   "display_name": "Python 3",
   "language": "python",
   "name": "python3"
  },
  "language_info": {
   "codemirror_mode": {
    "name": "ipython",
    "version": 3
   },
   "file_extension": ".py",
   "mimetype": "text/x-python",
   "name": "python",
   "nbconvert_exporter": "python",
   "pygments_lexer": "ipython3",
   "version": "3.7.1"
  }
 },
 "nbformat": 4,
 "nbformat_minor": 2
}
