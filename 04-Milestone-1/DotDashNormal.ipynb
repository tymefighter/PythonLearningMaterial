{
  "nbformat": 4,
  "nbformat_minor": 0,
  "metadata": {
    "colab": {
      "name": "DotDashNormal.ipynb",
      "provenance": [],
      "collapsed_sections": []
    },
    "kernelspec": {
      "name": "python3",
      "display_name": "Python 3"
    }
  },
  "cells": [
    {
      "cell_type": "code",
      "metadata": {
        "id": "7xq2Qf50aV_i",
        "colab_type": "code",
        "colab": {}
      },
      "source": [
        "from IPython.display import clear_output\n",
        "import sys"
      ],
      "execution_count": 0,
      "outputs": []
    },
    {
      "cell_type": "code",
      "metadata": {
        "id": "t_s3TuT9Z3qH",
        "colab_type": "code",
        "colab": {}
      },
      "source": [
        "n = 10\n",
        "TotalScore = (n - 1) * (n - 1)\n",
        "\n",
        "horz = [[False for j in range(n - 1)] for i in range(n)]\n",
        "vert = [[False for j in range(n)] for i in range(n - 1)]\n",
        "own = [[' ' for j in range(n)] for i in range(n)]\n",
        "\n",
        "playerNo = 0\n",
        "pScore = [0, 0]"
      ],
      "execution_count": 0,
      "outputs": []
    },
    {
      "cell_type": "code",
      "metadata": {
        "id": "slqT3XJuZrpP",
        "colab_type": "code",
        "colab": {}
      },
      "source": [
        "def takeInput():\n",
        "    x1 = int(input(\"please enter first dot row number: \"))\n",
        "    y1 = int(input(\"please enter first dot col number: \"))\n",
        "    x2 = int(input(\"please enter second dot row number: \"))\n",
        "    y2 = int(input(\"please enter second dot col number: \"))\n",
        "\n",
        "    return (x1,y1),(x2,y2)"
      ],
      "execution_count": 0,
      "outputs": []
    },
    {
      "cell_type": "code",
      "metadata": {
        "id": "J9MYXf3RZxUK",
        "colab_type": "code",
        "colab": {}
      },
      "source": [
        "def checkValid(p1, p2):\n",
        "\n",
        "\tglobal n, horz, vert\n",
        "\n",
        "\tx1 = p1[0]\n",
        "\ty1 = p1[1]\n",
        "\tx2 = p2[0]\n",
        "\ty2 = p2[1]\n",
        "\t\n",
        "\tif  x1 >= n or x1 < 0 or y1 >= n or y1 < 0:\n",
        "\t\treturn False\n",
        "\t\t\n",
        "\telif x2 >= n or x2 < 0 or y2 >= n or y2 < 0:\n",
        "\t\treturn False\n",
        "\t\n",
        "\telif x1 == x2 and abs(y1 - y2) == 1 and horz[x1][min(y1,y2)] == False:\n",
        "\t\treturn True\n",
        "\t\t\n",
        "\telif y1 == y2 and abs(x1 - x2) == 1 and vert[min(x1,x2)][y1] == False:\n",
        "\t\treturn True\n",
        "\t\t\n",
        "\telse:\n",
        "\t\treturn False"
      ],
      "execution_count": 0,
      "outputs": []
    },
    {
      "cell_type": "code",
      "metadata": {
        "id": "VpV4iFLuZ1a2",
        "colab_type": "code",
        "colab": {}
      },
      "source": [
        "def update(p1, p2):\n",
        "\t\n",
        "\tglobal playerNo, pScore, horz, vert, n, own\n",
        "\t\n",
        "\tx1 = p1[0]\n",
        "\ty1 = p1[1]\n",
        "\tx2 = p2[0]\n",
        "\ty2 = p2[1]\n",
        "\t\n",
        "\tFlag = True\n",
        "\t\n",
        "\tif x1 == x2:\n",
        "\t\tx = x1\n",
        "\t\ty = min(y1,y2)\n",
        "\t\thorz[x][y] = True\n",
        "\t\t\n",
        "\t\tif x>0 and y<(n-1) and  horz[x-1][y] and vert[x-1][y] and vert[x-1][y+1]:\n",
        "\t\t\tFlag = False\n",
        "\t\t\tpScore[playerNo] += 1\n",
        "\t\t\town[x-1][y] = str(playerNo)\n",
        "\t\t\t\t\n",
        "\t\tif x<(n-1) and y<(n-1) and  horz[x+1][y] and vert[x][y] and vert[x][y+1]:\n",
        "\t\t\tFlag = False\n",
        "\t\t\tpScore[playerNo] += 1\n",
        "\t\t\town[x][y] = str(playerNo)\n",
        "\telse:\n",
        "\t\tx = min(x1,x2)\n",
        "\t\ty = y1\n",
        "\t\tvert[x][y] = True\n",
        "\t\t\n",
        "\t\tif x<(n-1) and y<(n-1) and horz[x][y] and horz[x+1][y] and vert[x][y+1]:\n",
        "\t\t\tFlag = False\n",
        "\t\t\tpScore[playerNo] += 1\n",
        "\t\t\town[x][y] = str(playerNo)\n",
        "\t\t\t\n",
        "\t\tif y>0 and x<(n-1) and vert[x][y-1] and horz[x][y-1] and horz[x+1][y-1]:\n",
        "\t\t\tFlag = False\n",
        "\t\t\tpScore[playerNo] += 1\n",
        "\t\t\town[x][y-1] = str(playerNo)\n",
        "\t\t\t\n",
        "\tif Flag:\n",
        "\t\tplayerNo = 1-playerNo"
      ],
      "execution_count": 0,
      "outputs": []
    },
    {
      "cell_type": "code",
      "metadata": {
        "id": "ESB0Uu9FaA24",
        "colab_type": "code",
        "colab": {}
      },
      "source": [
        "def display():\n",
        "\t\n",
        "\tglobal horz, vert\n",
        "\t\n",
        "\ts = \"   \"\n",
        "\t\n",
        "\tfor j in range(2 * n - 1):\n",
        "\t\t\n",
        "\t\tif j % 2 == 0:\n",
        "\t\t\ts += str(j // 2)\n",
        "\t\telse:\n",
        "\t\t\ts += ' '\n",
        "\ts += \"\\n\\n\"\n",
        "\t\n",
        "\tfor i in range(2 * n - 1):\n",
        "\t\t\n",
        "\t\t\n",
        "\t\tif i % 2 == 0:\n",
        "\t\t\t\n",
        "\t\t\ts += str(i // 2) + \"  \"\t\n",
        "\t\t\t\t\n",
        "\t\t\tfor j in range(2 * n - 1):\n",
        "\t\t\t\t\n",
        "\t\t\t\tif j % 2 == 0:\n",
        "\t\t\t\t\ts += '$'\n",
        "\t\t\t\telif horz[i // 2][j // 2]:\n",
        "\t\t\t\t\ts += '-'\n",
        "\t\t\t\telse:\n",
        "\t\t\t\t\ts += ' '\n",
        "\t\telse:\n",
        "\t\t\n",
        "\t\t\ts += \"   \"\n",
        "\t\t\t\n",
        "\t\t\tfor j in range(2 * n - 1):\n",
        "\t\t\t\t\n",
        "\t\t\t\tif j % 2 != 0:\n",
        "\t\t\t\t\ts += own[i // 2][j // 2]\n",
        "\t\t\t\telif vert[i // 2][j // 2]:\n",
        "\t\t\t\t\ts += '|'\n",
        "\t\t\t\telse:\n",
        "\t\t\t\t\ts += ' '\n",
        "\t\t\n",
        "\t\ts += \"\\n\"\n",
        "\t\t\n",
        "\t\n",
        "\tclear_output()\n",
        "\tprint(s)"
      ],
      "execution_count": 0,
      "outputs": []
    },
    {
      "cell_type": "code",
      "metadata": {
        "id": "JS32qTP5aES0",
        "colab_type": "code",
        "colab": {}
      },
      "source": [
        "def isGameOver():\n",
        "\n",
        "\t\"\"\"\n",
        "\t\t- if game is not over, then it would return -1\n",
        "\t\t- if player 0 won, return 0\n",
        "\t\t- if player 1 won, return 1\n",
        "\t\t- if scores are equal, return 2 to indicate draw\n",
        "\t\"\"\"\n",
        "\t\n",
        "\tglobal pScore, TotalScore\n",
        "\n",
        "\tif pScore[0] + pScore[1] != TotalScore:\n",
        "\t\treturn -1\n",
        "\telif pScore[0] > pScore[1]:\n",
        "\t\treturn 0\n",
        "\telif pScore[1] > pScore[0]:\n",
        "\t\treturn 1\n",
        "\telse:\n",
        "\t\treturn 2"
      ],
      "execution_count": 0,
      "outputs": []
    },
    {
      "cell_type": "code",
      "metadata": {
        "id": "4FKhItciZl4l",
        "colab_type": "code",
        "colab": {}
      },
      "source": [
        "def main():\n",
        "\t\n",
        "\tglobal playerNo\n",
        "\n",
        "\tplayerNo = 0\n",
        "\twon = -1\n",
        "\n",
        "\twhile won == -1:\n",
        "\t\t\n",
        "\t\tdisplay()\n",
        "\t\tp1, p2 = takeInput()\n",
        "\t\t\n",
        "\t\tif not checkValid(p1, p2):\n",
        "\t\t\tcontinue\n",
        "\t\t\n",
        "\t\tupdate(p1, p2)\n",
        "\t\twon = isGameOver()\n",
        "\t\n",
        "\t\n",
        "\tdisplay()\n",
        "\tif won == 0:\n",
        "\t\tprint(\"Player 0 won\")\n",
        "\telif won == 1:\n",
        "\t\tprint(\"Player 1 won\")\n",
        "\telse:\n",
        "\t\tprint(\"Match Draw\")"
      ],
      "execution_count": 0,
      "outputs": []
    },
    {
      "cell_type": "code",
      "metadata": {
        "id": "2s7XHWsjaO0o",
        "colab_type": "code",
        "colab": {}
      },
      "source": [
        "main()"
      ],
      "execution_count": 0,
      "outputs": []
    }
  ]
}