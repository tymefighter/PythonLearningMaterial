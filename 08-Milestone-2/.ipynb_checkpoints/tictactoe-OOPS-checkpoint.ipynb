{
 "cells": [
  {
   "cell_type": "code",
   "execution_count": 1,
   "metadata": {},
   "outputs": [
    {
     "data": {
      "text/plain": [
       "' \\nX -> Red\\nO -> Green\\n_ -> White Background\\n\\n\\n'"
      ]
     },
     "execution_count": 1,
     "metadata": {},
     "output_type": "execute_result"
    }
   ],
   "source": [
    "# from IPython.display import clear_output\n",
    "from os import system\n",
    "from IPython.display import clear_output\n",
    "''' \n",
    "X -> Red\n",
    "O -> Green\n",
    "_ -> White Background\n",
    "\n",
    "\n",
    "'''\n"
   ]
  },
  {
   "cell_type": "code",
   "execution_count": 2,
   "metadata": {},
   "outputs": [],
   "source": [
    "class tictactoe:\n",
    "    def __init__ (self):\n",
    "        # ANSI escape codes for colors\n",
    "        print(\"Game started\")\n",
    "        self.RED = '\\033[31m'\n",
    "        self.GREEN = '\\033[32m'\n",
    "        self.RESET = '\\033[0m'\n",
    "        self.WHITE = '\\033[47m'\n",
    "        # An array to represent the tic-tac-toe board,  \n",
    "        # assume that the board is a 3*3 matrix\n",
    "        self.board = [' ' for i in range(9)]\n",
    "        self.row = self.col = 0\n",
    "    \n",
    "    def checkValid(self, i):\n",
    "        if self.board[i] != ' ':\n",
    "            return False\n",
    "        else:\n",
    "            return True\n",
    "        \n",
    "    \n",
    "\n",
    "    def isGameOver(self):\n",
    "        '''\n",
    "        A function which checks whether the TIC_TAC_TOE game is in a win or draw or continue state.\n",
    "        i/p : State of the tic-tac-toe board (A list of 9 entries)\n",
    "        o/p:\n",
    "        if a WIN , the winning player symbol is returned (X OR O)\n",
    "        elif a DRAW, 0 is returned\n",
    "        else  CONTINUE state, -1 is returned\n",
    "\n",
    "                    BOARD\n",
    "            |   0   |   1   |   2   |\n",
    "            |   3   |   4   |   5   |\n",
    "            |   6   |   7   |   8   |\n",
    "\n",
    "            Input Symbols are X and O or \" \" for empty\n",
    "        '''\n",
    "\n",
    "        # row match for X or O\n",
    "        pos = 0;\n",
    "        while(pos<=6):\n",
    "            if(self.board[pos]=='X' and self.board[pos+1]=='X' and self.board[pos+2]=='X'):\n",
    "                return 1\n",
    "            if(self.board[pos]=='O' and self.board[pos+1]=='O' and self.board[pos+2]=='O'):\n",
    "                return 0\n",
    "            pos+=3\n",
    "        # col match for X or O\n",
    "        pos=0\n",
    "        while(pos<=2):\n",
    "            if(self.board[pos]=='X' and self.board[pos+3]=='X' and self.board[pos+6]=='X'):\n",
    "                return 1\n",
    "            if(self.board[pos]=='O' and self.board[pos+3]=='O' and self.board[pos+6]=='O'):\n",
    "                return 0\n",
    "            pos+=1\n",
    "        #first diagnonal match for O or X\n",
    "        pos=0\n",
    "        if(self.board[pos]=='X' and self.board[pos+4]=='X' and self.board[pos+8]=='X'):\n",
    "                return 1\n",
    "        if(self.board[pos]=='O' and self.board[pos+4]=='O' and self.board[pos+8]=='O'):\n",
    "                return 0\n",
    "        # second diagonal match for X or O\n",
    "        pos = 6\n",
    "        if(self.board[pos]=='X' and self.board[pos-2]=='X' and self.board[pos-4]=='X'):\n",
    "                    return 1\n",
    "        if(self.board[pos]=='O' and self.board[pos-2]=='O' and self.board[pos-4]=='O'):\n",
    "                    return 0\n",
    "            #now to check whether if it is a draw or conitune state\n",
    "        pos=0\n",
    "        while(pos<=8):\n",
    "            if self.board[pos]==\" \":\n",
    "                return -2\n",
    "            pos=pos+1\n",
    "            # now all are occupied hence a DRAW\n",
    "        return -1\n",
    "\n",
    "\n",
    "\n",
    "    def update(self, i):\n",
    "\n",
    "        if not self.checkValid( i):\n",
    "            return False\n",
    "\n",
    "        if self.player == 0:\n",
    "            self.board[i] = 'O'\n",
    "        else:\n",
    "            self.board[i] = 'X'\n",
    "\n",
    "        return True \n",
    "    def display(self, cursor):\n",
    "\n",
    "        # ANSI escape codes for colors\n",
    "        s = ''\n",
    "        for i in range(0, len(self.board)):\n",
    "\n",
    "            # white background for self.cursor highlight\n",
    "            if cursor == i:\n",
    "                s = s + self.WHITE\n",
    "            if self.board[i] == 'X':\n",
    "                s = s + self.RED + ' X ' + self.RESET\n",
    "            elif self.board[i] == 'O':\n",
    "                s = s + self.GREEN + ' O ' + self.RESET\n",
    "            else:\n",
    "                s = s + '   ' + self.RESET\n",
    "\n",
    "            # \n",
    "            row = i // 3\n",
    "            col = i % 3\n",
    "\n",
    "            if col < 2:\n",
    "                s = s + '|'\n",
    "            # last column\n",
    "            else:\n",
    "                s = s + '\\n'\n",
    "                # last row\n",
    "                if row < 2:\n",
    "                    s = s + '-----------\\n'\n",
    "\n",
    "\n",
    "        clear_output()\n",
    "        #system('clear')\n",
    "        print(s)\n",
    "        return\n",
    "    \n",
    "\n",
    "    def play(self):\n",
    "        # An self.boarday to represent the tic-tac-toe board,  \n",
    "        # assume that the board is a 3*3 matrix\n",
    "        self.board = [' ' for i in range(9)]\n",
    "\n",
    "        # Cursor location is represented by self.row,self.col \n",
    "        self.row = self.col = 0\n",
    "\n",
    "        # A set of cursor characters which would\n",
    "        # be input by the self.player\n",
    "        cursorChar = set(('w', 's', 'a', 'd'))\n",
    "\n",
    "        # Current self.player number\n",
    "        self.player = 0\n",
    "\n",
    "        # Result to be printed\n",
    "        res = [\"player 0 won\", \"player 1 won\", \"Draw\"]\n",
    "\n",
    "        # A while loop which would simulate\n",
    "        # the game\n",
    "        while True:\n",
    "\n",
    "            # This would self.display the current game\n",
    "            # status\n",
    "            self.display(self.row * 3 + self.col)\n",
    "\n",
    "            # Get input from the self.player\n",
    "            c = input()\n",
    "\n",
    "            # If the input is a cursor character, do as follows\n",
    "            if c in cursorChar:\n",
    "\n",
    "                if c == 'w' and self.row != 0:\t\t# If the cursor moves up, then reduce self.row value\n",
    "                    self.row -= 1\n",
    "                elif c == 's' and self.row != 2:\t\t# If the cursor moves down, then increase self.row value\n",
    "                    self.row += 1\n",
    "                elif c == 'a' and self.col != 0:\t\t# If the cursor moves left, then reduce self.col value\n",
    "                    self.col -= 1\n",
    "                elif c == 'd' and self.col != 2:\t\t# If the cursor moves right, then increase self.col value\n",
    "                    self.col += 1\n",
    "\n",
    "            elif c == ' ':\t\t\t\t\t\t# If the input is an enter character, then do as follows\n",
    "\n",
    "                if self.update( self.row * 3 + self.col):\t# Update the game board if possible\n",
    "\n",
    "                    self.player = 1 - self.player\t\t\t# Change the self.player\n",
    "\n",
    "                    pl = self.isGameOver()\t\t# Get game status\n",
    "\n",
    "                    if pl != -2:\t\t\t\t# If the game is over, do as follows\n",
    "                        self.display( self.row * 3 + self.col)\n",
    "                        print(res[pl])\t\t\t# print the results\n",
    "                        break\t\t\t\t\t# End the game\n",
    "\n",
    "\n",
    "\n",
    "\n",
    "\n",
    "\n",
    "\n",
    "\n",
    "    "
   ]
  },
  {
   "cell_type": "code",
   "execution_count": 3,
   "metadata": {},
   "outputs": [
    {
     "name": "stdout",
     "output_type": "stream",
     "text": [
      "Game started\n"
     ]
    }
   ],
   "source": [
    "Game = tictactoe()"
   ]
  },
  {
   "cell_type": "code",
   "execution_count": 4,
   "metadata": {},
   "outputs": [
    {
     "name": "stdout",
     "output_type": "stream",
     "text": [
      "\u001b[32m O \u001b[0m|\u001b[31m X \u001b[0m|\u001b[32m O \u001b[0m\n",
      "-----------\n",
      "\u001b[32m O \u001b[0m|\u001b[31m X \u001b[0m|\u001b[47m\u001b[32m O \u001b[0m\n",
      "-----------\n",
      "\u001b[31m X \u001b[0m|\u001b[32m O \u001b[0m|\u001b[31m X \u001b[0m\n",
      "\n",
      "Draw\n"
     ]
    }
   ],
   "source": [
    "Game.play()"
   ]
  },
  {
   "cell_type": "code",
   "execution_count": 33,
   "metadata": {},
   "outputs": [
    {
     "name": "stdout",
     "output_type": "stream",
     "text": [
      "\u001b[32m O \u001b[0m|\u001b[47m\u001b[32m O \u001b[0m|\u001b[32m O \u001b[0m\n",
      "-----------\n",
      "   \u001b[0m|\u001b[31m X \u001b[0m|\u001b[32m O \u001b[0m\n",
      "-----------\n",
      "   \u001b[0m|\u001b[31m X \u001b[0m|\u001b[31m X \u001b[0m\n",
      "\n",
      "player 0 won\n"
     ]
    }
   ],
   "source": [
    "Game.play()"
   ]
  },
  {
   "cell_type": "code",
   "execution_count": 34,
   "metadata": {},
   "outputs": [
    {
     "name": "stdout",
     "output_type": "stream",
     "text": [
      "\u001b[32m O \u001b[0m|\u001b[32m O \u001b[0m|\u001b[31m X \u001b[0m\n",
      "-----------\n",
      "   \u001b[0m|\u001b[31m X \u001b[0m|\u001b[32m O \u001b[0m\n",
      "-----------\n",
      "\u001b[47m\u001b[31m X \u001b[0m|   \u001b[0m|   \u001b[0m\n",
      "\n",
      "player 1 won\n"
     ]
    }
   ],
   "source": [
    "Game.play()"
   ]
  }
 ],
 "metadata": {
  "kernelspec": {
   "display_name": "Python 3",
   "language": "python",
   "name": "python3"
  },
  "language_info": {
   "codemirror_mode": {
    "name": "ipython",
    "version": 3
   },
   "file_extension": ".py",
   "mimetype": "text/x-python",
   "name": "python",
   "nbconvert_exporter": "python",
   "pygments_lexer": "ipython3",
   "version": "3.7.1"
  }
 },
 "nbformat": 4,
 "nbformat_minor": 2
}
